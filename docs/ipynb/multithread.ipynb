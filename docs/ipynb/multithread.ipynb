{
 "cells": [
  {
   "cell_type": "code",
   "execution_count": 1,
   "metadata": {},
   "outputs": [],
   "source": [
    "#       https://github.com/CarlKCarlK/sgkit-plink/tree/7228d147\n",
    "#            python setup.py build_ext --inplace    "
   ]
  },
  {
   "cell_type": "code",
   "execution_count": 28,
   "metadata": {},
   "outputs": [
    {
     "name": "stdout",
     "output_type": "stream",
     "text": [
      "Wall time: 1.86 s\n"
     ]
    },
    {
     "data": {
      "text/plain": [
       "(487400, 220000)"
      ]
     },
     "execution_count": 28,
     "metadata": {},
     "output_type": "execute_result"
    }
   ],
   "source": [
    "%%time\n",
    "import numpy as np\n",
    "from sgkit_plink._open_bed import open_bed\n",
    "\n",
    "#Can get file from https://www.dropbox.com/sh/xluk9opjiaobteg/AABgEggLk0ZoO0KQq0I4CaTJa?dl=0\n",
    "bigfile = r'M:\\deldir\\genbgen\\2\\merged_487400x220000.1.bed'\n",
    "#bigfile = '/mnt/m/deldir/genbgen/2/merged_487400x220000.1.bed'\n",
    "shape=open_bed(bigfile).shape\n",
    "shape"
   ]
  },
  {
   "cell_type": "code",
   "execution_count": 30,
   "metadata": {},
   "outputs": [
    {
     "name": "stdout",
     "output_type": "stream",
     "text": [
      "Wall time: 11.3 s\n"
     ]
    },
    {
     "data": {
      "text/plain": [
       "(487400, 10000)"
      ]
     },
     "execution_count": 30,
     "metadata": {},
     "output_type": "execute_result"
    }
   ],
   "source": [
    "%%time\n",
    "\n",
    "#Read 487K x 10K, one thread\n",
    "\n",
    "open_bed(bigfile,shape=shape,num_threads=1).read(np.s_[:,:10*1000]).shape"
   ]
  },
  {
   "cell_type": "code",
   "execution_count": 31,
   "metadata": {},
   "outputs": [
    {
     "name": "stdout",
     "output_type": "stream",
     "text": [
      "Wall time: 3.03 s\n"
     ]
    },
    {
     "data": {
      "text/plain": [
       "(487400, 10000)"
      ]
     },
     "execution_count": 31,
     "metadata": {},
     "output_type": "execute_result"
    }
   ],
   "source": [
    "%%time\n",
    "\n",
    "#Read 487K x 10K, 12 thread (I have a 6-proc machine with hyperthreading turned on)\n",
    "\n",
    "open_bed(bigfile,shape=shape,num_threads=12).read(np.s_[:,:10*1000]).shape"
   ]
  },
  {
   "cell_type": "code",
   "execution_count": 32,
   "metadata": {},
   "outputs": [
    {
     "name": "stdout",
     "output_type": "stream",
     "text": [
      "Wall time: 38.1 s\n"
     ]
    },
    {
     "data": {
      "text/plain": [
       "(1000, 100000)"
      ]
     },
     "execution_count": 32,
     "metadata": {},
     "output_type": "execute_result"
    }
   ],
   "source": [
    "%%time\n",
    "\n",
    "#Read 1K x 100K, 1 thread\n",
    "\n",
    "open_bed(bigfile,shape=shape,num_threads=1).read(np.s_[:1000,:100*1000]).shape"
   ]
  },
  {
   "cell_type": "code",
   "execution_count": 33,
   "metadata": {},
   "outputs": [
    {
     "name": "stdout",
     "output_type": "stream",
     "text": [
      "Wall time: 10.6 s\n"
     ]
    },
    {
     "data": {
      "text/plain": [
       "(1000, 100000)"
      ]
     },
     "execution_count": 33,
     "metadata": {},
     "output_type": "execute_result"
    }
   ],
   "source": [
    "%%time\n",
    "\n",
    "#Read 1K x 100K, default threads (12)\n",
    "\n",
    "open_bed(bigfile,shape=shape).read(np.s_[:1000,:100*1000]).shape"
   ]
  },
  {
   "cell_type": "code",
   "execution_count": 6,
   "metadata": {},
   "outputs": [
    {
     "name": "stdout",
     "output_type": "stream",
     "text": [
      "C,float32,1.332998275756836\n",
      "C,float64,1.2800040245056152\n",
      "C,int8,1.2279987335205078\n",
      "F,float32,1.099010705947876\n",
      "F,float64,1.1770014762878418\n",
      "F,int8,1.123002052307129\n"
     ]
    }
   ],
   "source": [
    "import time\n",
    "import numpy as np\n",
    "from sgkit_plink._open_bed import open_bed\n",
    "\n",
    "#Can get file from https://www.dropbox.com/sh/xluk9opjiaobteg/AABgEggLk0ZoO0KQq0I4CaTJa?dl=0\n",
    "bigfile = r'M:\\deldir\\genbgen\\2\\merged_487400x220000.1.bed'\n",
    "#bigfile = '/mnt/m/deldir/genbgen/2/merged_487400x220000.1.bed'\n",
    "\n",
    "slicer = np.s_[4000:6000,:20000]\n",
    "with open_bed(bigfile) as bed:\n",
    "    for order in ['C','F']:\n",
    "        for dtype in ['float32','float64','int8']:\n",
    "            start = time.time()\n",
    "            val = bed.read(slicer,order=order,dtype=dtype)\n",
    "            print(f'{order},{dtype},{time.time()-start}')\n",
    "        "
   ]
  },
  {
   "cell_type": "code",
   "execution_count": 3,
   "metadata": {},
   "outputs": [
    {
     "data": {
      "text/plain": [
       "array([[1.56137798e+17, 0.00000000e+00, 0.00000000e+00, ...,\n",
       "        0.00000000e+00, 0.00000000e+00, 0.00000000e+00],\n",
       "       [6.09564832e-43, 0.00000000e+00, 0.00000000e+00, ...,\n",
       "        0.00000000e+00, 0.00000000e+00, 2.29588740e-41],\n",
       "       [1.38897456e+17, 0.00000000e+00, 0.00000000e+00, ...,\n",
       "        0.00000000e+00, 0.00000000e+00, 0.00000000e+00],\n",
       "       ...,\n",
       "       [0.00000000e+00, 0.00000000e+00, 0.00000000e+00, ...,\n",
       "        0.00000000e+00, 0.00000000e+00, 2.29588740e-41],\n",
       "       [0.00000000e+00, 0.00000000e+00, 0.00000000e+00, ...,\n",
       "        0.00000000e+00, 0.00000000e+00, 0.00000000e+00],\n",
       "       [0.00000000e+00, 0.00000000e+00, 0.00000000e+00, ...,\n",
       "        0.00000000e+00, 0.00000000e+00, 0.00000000e+00]], dtype=float32)"
      ]
     },
     "execution_count": 3,
     "metadata": {},
     "output_type": "execute_result"
    }
   ],
   "source": [
    "iid_count_out=100\n",
    "sid_count_out=1000\n",
    "order='F'\n",
    "dtype='float32'\n",
    "np.empty((iid_count_out, sid_count_out), order=order, dtype=dtype)"
   ]
  },
  {
   "cell_type": "code",
   "execution_count": null,
   "metadata": {},
   "outputs": [],
   "source": []
  }
 ],
 "metadata": {
  "kernelspec": {
   "display_name": "Python 3",
   "language": "python",
   "name": "python3"
  },
  "language_info": {
   "codemirror_mode": {
    "name": "ipython",
    "version": 3
   },
   "file_extension": ".py",
   "mimetype": "text/x-python",
   "name": "python",
   "nbconvert_exporter": "python",
   "pygments_lexer": "ipython3",
   "version": "3.7.4"
  }
 },
 "nbformat": 4,
 "nbformat_minor": 2
}

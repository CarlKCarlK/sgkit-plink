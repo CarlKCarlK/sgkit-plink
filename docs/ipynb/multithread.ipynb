{
 "cells": [
  {
   "cell_type": "code",
   "execution_count": 1,
   "metadata": {},
   "outputs": [],
   "source": [
    "# Using https://github.com/fastlmm/PySnpTools/commit/23236b80 (but any should do)\n",
    "#    and\n",
    "#       https://github.com/CarlKCarlK/sgkit-plink/commit/309684b9\n",
    "#            python setup.py build_ext --inplace    "
   ]
  },
  {
   "cell_type": "code",
   "execution_count": 2,
   "metadata": {},
   "outputs": [
    {
     "data": {
      "text/plain": [
       "285"
      ]
     },
     "execution_count": 2,
     "metadata": {},
     "output_type": "execute_result"
    }
   ],
   "source": [
    "# util.mapreduce1: Run loops in parallel on multiple processes, threads, or clusters.\n",
    "#       API Docs: https://fastlmm.github.io/PySnpTools/#module-pysnptools.util.mapreduce1\n",
    "\n",
    "from pysnptools.util.mapreduce1 import map_reduce\n",
    "from pysnptools.util.mapreduce1.runner import LocalMultiThread, Local\n",
    "import time\n",
    "\n",
    "def slow_square(x):\n",
    "    time.sleep(1)\n",
    "    return x*x\n",
    "\n",
    "def square_sum(count,runner=None):\n",
    "    ss= map_reduce(range(count),\n",
    "               mapper=slow_square,\n",
    "               reducer=sum,\n",
    "               runner=runner)\n",
    "    return ss\n",
    "\n",
    "square_sum(10)"
   ]
  },
  {
   "cell_type": "code",
   "execution_count": 3,
   "metadata": {},
   "outputs": [
    {
     "name": "stdout",
     "output_type": "stream",
     "text": [
      "Wall time: 10.1 s\n"
     ]
    },
    {
     "data": {
      "text/plain": [
       "285"
      ]
     },
     "execution_count": 3,
     "metadata": {},
     "output_type": "execute_result"
    }
   ],
   "source": [
    "%%time\n",
    "\n",
    "square_sum(10,runner=Local())"
   ]
  },
  {
   "cell_type": "code",
   "execution_count": 4,
   "metadata": {},
   "outputs": [
    {
     "name": "stdout",
     "output_type": "stream",
     "text": [
      "Wall time: 1.01 s\n"
     ]
    },
    {
     "data": {
      "text/plain": [
       "285"
      ]
     },
     "execution_count": 4,
     "metadata": {},
     "output_type": "execute_result"
    }
   ],
   "source": [
    "%%time\n",
    "\n",
    "#Multithreading is faster\n",
    "\n",
    "square_sum(10,runner=LocalMultiThread(10))"
   ]
  },
  {
   "cell_type": "code",
   "execution_count": 10,
   "metadata": {},
   "outputs": [
    {
     "name": "stdout",
     "output_type": "stream",
     "text": [
      "Loading fam file datasets\\all_chr.maf0.001.N300.fam\n",
      "Loading bim file datasets\\all_chr.maf0.001.N300.bim\n"
     ]
    },
    {
     "data": {
      "text/plain": [
       "[(0.13873333333333332, (300, 100)),\n",
       " (0.22336666666666666, (300, 100)),\n",
       " (0.1944, (300, 100)),\n",
       " (0.20983333333333334, (300, 100)),\n",
       " (0.21043333333333333, (300, 100)),\n",
       " (0.18643333333333334, (300, 100)),\n",
       " (0.19606666666666667, (300, 100)),\n",
       " (0.13453333333333334, (300, 100)),\n",
       " (0.19976666666666668, (300, 100)),\n",
       " (0.18323333333333333, (300, 100)),\n",
       " (0.4428888888888889, (300, 15))]"
      ]
     },
     "execution_count": 10,
     "metadata": {},
     "output_type": "execute_result"
    }
   ],
   "source": [
    "# Read from a Bed file in (perhaps parallel) batches and return the mean\n",
    "\n",
    "import os\n",
    "import numpy as np\n",
    "from sgkit_plink._open_bed import open_bed\n",
    "\n",
    "os.chdir(r'D:\\OneDrive\\programs\\pstsgkit\\tests')\n",
    "\n",
    "def thread_read(filename, sid_end=None, runner=None, verbose=False):\n",
    "    with open_bed(filename) as bed:\n",
    "        bed.shape # causes the lazy metadata to read the number of lines in the two metadata files\n",
    "        batch_size = 100\n",
    "        def read_and_report(start):\n",
    "            if verbose:\n",
    "                print(start)\n",
    "            val = bed.read(index=np.s_[:,start:start+batch_size],force_python_only=True)\n",
    "            return np.nanmean(val), val.shape\n",
    "\n",
    "        sid_end = sid_end or bed.sid_count #!!!but what if sid_end is 0?\n",
    "        report = map_reduce(range(0, sid_end,batch_size),\n",
    "                   mapper=read_and_report,\n",
    "                   runner=runner)\n",
    "        return report\n",
    "    \n",
    "\n",
    "thread_read('datasets/all_chr.maf0.001.N300.bed')"
   ]
  },
  {
   "cell_type": "code",
   "execution_count": 6,
   "metadata": {},
   "outputs": [
    {
     "name": "stdout",
     "output_type": "stream",
     "text": [
      "Loading fam file M:\\deldir\\genbgen\\2\\merged_487400x220000.1.fam\n",
      "Loading bim file M:\\deldir\\genbgen\\2\\merged_487400x220000.1.bim\n",
      "Wall time: 3.16 s\n"
     ]
    },
    {
     "data": {
      "text/plain": [
       "(487400, 220000)"
      ]
     },
     "execution_count": 6,
     "metadata": {},
     "output_type": "execute_result"
    }
   ],
   "source": [
    "%%time\n",
    "\n",
    "bigfile = r'M:\\deldir\\genbgen\\2\\merged_487400x220000.1.bed'\n",
    "open_bed(bigfile).shape"
   ]
  },
  {
   "cell_type": "code",
   "execution_count": 7,
   "metadata": {},
   "outputs": [
    {
     "name": "stdout",
     "output_type": "stream",
     "text": [
      "Loading fam file M:\\deldir\\genbgen\\2\\merged_487400x220000.1.fam\n",
      "Loading bim file M:\\deldir\\genbgen\\2\\merged_487400x220000.1.bim\n",
      "0\n",
      "100\n",
      "200\n",
      "300\n",
      "400\n",
      "500\n",
      "600\n",
      "700\n",
      "800\n",
      "900\n",
      "Wall time: 10.7 s\n"
     ]
    },
    {
     "data": {
      "text/plain": [
       "[(-29.79690145670907, (487400, 100)),\n",
       " (-24.055449343455066, (487400, 100)),\n",
       " (-34.39397287648748, (487400, 100)),\n",
       " (-29.801632334837915, (487400, 100)),\n",
       " (-32.10032076323348, (487400, 100)),\n",
       " (-37.84243836684448, (487400, 100)),\n",
       " (-19.455485945835044, (487400, 100)),\n",
       " (-22.905076590069758, (487400, 100)),\n",
       " (-24.05008110381617, (487400, 100)),\n",
       " (-22.907826713171932, (487400, 100))]"
      ]
     },
     "execution_count": 7,
     "metadata": {},
     "output_type": "execute_result"
    }
   ],
   "source": [
    "%%time\n",
    "\n",
    "thread_read(bigfile,sid_end=1000,runner=Local(),verbose=True)"
   ]
  },
  {
   "cell_type": "code",
   "execution_count": 8,
   "metadata": {},
   "outputs": [
    {
     "name": "stdout",
     "output_type": "stream",
     "text": [
      "Loading fam file M:\\deldir\\genbgen\\2\\merged_487400x220000.1.fam\n",
      "Loading bim file M:\\deldir\\genbgen\\2\\merged_487400x220000.1.bim\n",
      "0100\n",
      "\n",
      "200\n",
      "300\n",
      "400\n",
      "500\n",
      "600\n",
      "700\n",
      "800\n",
      "900\n",
      "Wall time: 5.48 s\n"
     ]
    },
    {
     "data": {
      "text/plain": [
       "[(-29.79690145670907, (487400, 100)),\n",
       " (-24.055449343455066, (487400, 100)),\n",
       " (-34.39397287648748, (487400, 100)),\n",
       " (-29.801632334837915, (487400, 100)),\n",
       " (-32.10032076323348, (487400, 100)),\n",
       " (-37.84243836684448, (487400, 100)),\n",
       " (-19.455485945835044, (487400, 100)),\n",
       " (-22.905076590069758, (487400, 100)),\n",
       " (-24.05008110381617, (487400, 100)),\n",
       " (-22.907826713171932, (487400, 100))]"
      ]
     },
     "execution_count": 8,
     "metadata": {},
     "output_type": "execute_result"
    }
   ],
   "source": [
    "%%time\n",
    "#The verbose messages arrive out of order, so we know it's multithreading\n",
    "thread_read(bigfile,sid_end=1000,runner=LocalMultiThread(10),verbose=True)"
   ]
  },
  {
   "cell_type": "code",
   "execution_count": 13,
   "metadata": {},
   "outputs": [
    {
     "name": "stdout",
     "output_type": "stream",
     "text": [
      "Loading fam file M:\\deldir\\genbgen\\2\\merged_487400x220000.1.fam\n",
      "Loading bim file M:\\deldir\\genbgen\\2\\merged_487400x220000.1.bim\n",
      "01000\n",
      "\n",
      "20003000\n",
      "\n",
      "4000\n",
      "5000\n",
      "6000\n",
      "7000\n",
      "8000\n",
      "9000\n",
      "41005100\n",
      "\n",
      "1100\n",
      "1002100\n",
      "\n",
      "8100610091007100\n",
      "\n",
      "3100\n",
      "\n",
      "\n",
      "42005200\n",
      "\n",
      "1200\n",
      "200\n",
      "6200\n",
      "72009200\n",
      "\n",
      "3200\n",
      "2200\n",
      "8200\n",
      "5300\n",
      "4300\n",
      "1300\n",
      "300\n",
      "2300\n",
      "93003300\n",
      "\n",
      "7300\n",
      "63008300\n",
      "\n",
      "5400\n",
      "4400\n",
      "1400\n",
      "400\n",
      "9400\n",
      "7400\n",
      "3400\n",
      "2400\n",
      "84006400\n",
      "\n",
      "5500\n",
      "4500\n",
      "1500\n",
      "9500\n",
      "2500\n",
      "35008500\n",
      "\n",
      "500\n",
      "7500\n",
      "6500\n",
      "5600\n",
      "4600\n",
      "1600\n",
      "2600\n",
      "9600\n",
      "3600\n",
      "8600\n",
      "5700\n",
      "4700\n",
      "600\n",
      "7600\n",
      "6600\n",
      "1700\n",
      "2700\n",
      "9700\n",
      "58008700\n",
      "\n",
      "3700\n",
      "4800\n",
      "7700\n",
      "700\n",
      "6700\n",
      "1800\n",
      "2800\n",
      "9800\n",
      "4900\n",
      "5900\n",
      "8800\n",
      "3800\n",
      "800\n",
      "7800\n",
      "6800\n",
      "1900\n",
      "2900\n",
      "9900\n",
      "89006900\n",
      "\n",
      "3900\n",
      "900\n",
      "7900\n",
      "Wall time: 23.8 s\n"
     ]
    },
    {
     "data": {
      "text/plain": [
       "[(-29.79690145670907, (487400, 100)),\n",
       " (-24.055449343455066, (487400, 100)),\n",
       " (-34.39397287648748, (487400, 100)),\n",
       " (-29.801632334837915, (487400, 100)),\n",
       " (-32.10032076323348, (487400, 100)),\n",
       " (-37.84243836684448, (487400, 100)),\n",
       " (-19.455485945835044, (487400, 100)),\n",
       " (-22.905076590069758, (487400, 100)),\n",
       " (-24.05008110381617, (487400, 100)),\n",
       " (-22.907826713171932, (487400, 100)),\n",
       " (-20.599556114074684, (487400, 100)),\n",
       " (-20.60552800574477, (487400, 100)),\n",
       " (-27.499685227739022, (487400, 100)),\n",
       " (-24.048973553549445, (487400, 100)),\n",
       " (-25.19879571194091, (487400, 100)),\n",
       " (-30.94615664751744, (487400, 100)),\n",
       " (-21.753124969224455, (487400, 100)),\n",
       " (-33.246497496922444, (487400, 100)),\n",
       " (-29.798468178087813, (487400, 100)),\n",
       " (-20.604071235125154, (487400, 100)),\n",
       " (-28.648547004513745, (487400, 100)),\n",
       " (-27.498296819860485, (487400, 100)),\n",
       " (-21.759837566680346, (487400, 100)),\n",
       " (-30.948608904390642, (487400, 100)),\n",
       " (-27.497819798933115, (487400, 100)),\n",
       " (-27.50512839556832, (487400, 100)),\n",
       " (-19.457196512105046, (487400, 100)),\n",
       " (-24.058606462864176, (487400, 100)),\n",
       " (-25.205138489946656, (487400, 100)),\n",
       " (-28.648128272466145, (487400, 100)),\n",
       " (-21.757154411161263, (487400, 100)),\n",
       " (-27.499483299138284, (487400, 100)),\n",
       " (-27.509826220763234, (487400, 100)),\n",
       " (-24.050234017234306, (487400, 100)),\n",
       " (-35.54819764054165, (487400, 100)),\n",
       " (-32.09993151415675, (487400, 100)),\n",
       " (-20.60383978251949, (487400, 100)),\n",
       " (-24.05214835863767, (487400, 100)),\n",
       " (-28.647300143619205, (487400, 100)),\n",
       " (-22.900326220763233, (487400, 100)),\n",
       " (-19.458586109971275, (487400, 100)),\n",
       " (-22.907509458350432, (487400, 100)),\n",
       " (-32.09874924086992, (487400, 100)),\n",
       " (-26.352475687320474, (487400, 100)),\n",
       " (-24.052540315962247, (487400, 100)),\n",
       " (-25.197180631924496, (487400, 100)),\n",
       " (-24.050127082478458, (487400, 100)),\n",
       " (-29.799462638489945, (487400, 100)),\n",
       " (-27.497662925728356, (487400, 100)),\n",
       " (-38.99461321296676, (487400, 100)),\n",
       " (-22.906590931473122, (487400, 100)),\n",
       " (-25.2048708453016, (487400, 100)),\n",
       " (-25.199722158391467, (487400, 100)),\n",
       " (-29.79591772671317, (487400, 100)),\n",
       " (-24.054564546573655, (487400, 100)),\n",
       " (-29.799015223635617, (487400, 100)),\n",
       " (-29.799786848584326, (487400, 100)),\n",
       " (-19.45677486663931, (487400, 100)),\n",
       " (-33.24644526056627, (487400, 100)),\n",
       " (-20.608074969224457, (487400, 100)),\n",
       " (-35.54512141977842, (487400, 100)),\n",
       " (-28.6511369716865, (487400, 100)),\n",
       " (-27.49574579400903, (487400, 100)),\n",
       " (-20.60749544521953, (487400, 100)),\n",
       " (-21.755199179318836, (487400, 100)),\n",
       " (-27.502927677472304, (487400, 100)),\n",
       " (-22.903738018054984, (487400, 100)),\n",
       " (-29.80287993434551, (487400, 100)),\n",
       " (-27.502965326220764, (487400, 100)),\n",
       " (-28.65162410750923, (487400, 100)),\n",
       " (-27.50700882232253, (487400, 100)),\n",
       " (-26.353733340172344, (487400, 100)),\n",
       " (-27.50128157570784, (487400, 100)),\n",
       " (-18.30811185884284, (487400, 100)),\n",
       " (-20.607002462043496, (487400, 100)),\n",
       " (-27.50502751333607, (487400, 100)),\n",
       " (-24.05921590069758, (487400, 100)),\n",
       " (-27.50308883873615, (487400, 100)),\n",
       " (-21.751397722609767, (487400, 100)),\n",
       " (-27.501400882232254, (487400, 100)),\n",
       " (-21.76081610586787, (487400, 100)),\n",
       " (-26.352764013130898, (487400, 100)),\n",
       " (-25.19622868280673, (487400, 100)),\n",
       " (-29.800173533032417, (487400, 100)),\n",
       " (-26.347841157160442, (487400, 100)),\n",
       " (-20.60530334427575, (487400, 100)),\n",
       " (-22.900559355765285, (487400, 100)),\n",
       " (-22.902546532622075, (487400, 100)),\n",
       " (-27.499487792367667, (487400, 100)),\n",
       " (-24.051784961017646, (487400, 100)),\n",
       " (-27.498678108329912, (487400, 100)),\n",
       " (-20.60571274107509, (487400, 100)),\n",
       " (-27.501061510053344, (487400, 100)),\n",
       " (-29.801837751333608, (487400, 100)),\n",
       " (-26.35208578169881, (487400, 100)),\n",
       " (-28.649450656544932, (487400, 100)),\n",
       " (-22.905818075502665, (487400, 100)),\n",
       " (-19.46054741485433, (487400, 100)),\n",
       " (-35.5440588018055, (487400, 100)),\n",
       " (-20.604944214197783, (487400, 100))]"
      ]
     },
     "execution_count": 13,
     "metadata": {},
     "output_type": "execute_result"
    }
   ],
   "source": [
    "%%time\n",
    "\n",
    "#10K variants\n",
    "thread_read(bigfile,sid_end=10*1000,runner=LocalMultiThread(10),verbose=True)"
   ]
  },
  {
   "cell_type": "code",
   "execution_count": null,
   "metadata": {},
   "outputs": [],
   "source": [
    "#Single threaded: 1000 variants: 10 seconds\n",
    "#Multi            1000 variants:  5 seconds\n",
    "#Multi          10,000 variants: 23 seconds"
   ]
  }
 ],
 "metadata": {
  "kernelspec": {
   "display_name": "Python 3",
   "language": "python",
   "name": "python3"
  },
  "language_info": {
   "codemirror_mode": {
    "name": "ipython",
    "version": 3
   },
   "file_extension": ".py",
   "mimetype": "text/x-python",
   "name": "python",
   "nbconvert_exporter": "python",
   "pygments_lexer": "ipython3",
   "version": "3.7.4"
  }
 },
 "nbformat": 4,
 "nbformat_minor": 2
}

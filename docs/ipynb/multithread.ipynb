{
 "cells": [
  {
   "cell_type": "code",
   "execution_count": 1,
   "metadata": {},
   "outputs": [],
   "source": [
    "# Using https://github.com/fastlmm/PySnpTools/commit/23236b80 (but any should do)\n",
    "#    and\n",
    "#       https://github.com/CarlKCarlK/sgkit-plink/commit/309684b9\n",
    "#            python setup.py build_ext --inplace    "
   ]
  },
  {
   "cell_type": "code",
   "execution_count": 1,
   "metadata": {},
   "outputs": [
    {
     "data": {
      "text/plain": [
       "5"
      ]
     },
     "execution_count": 1,
     "metadata": {},
     "output_type": "execute_result"
    }
   ],
   "source": [
    "# util.mapreduce1: Run loops in parallel on multiple processes, threads, or clusters.\n",
    "#       API Docs: https://fastlmm.github.io/PySnpTools/#module-pysnptools.util.mapreduce1\n",
    "\n",
    "from pysnptools.util.mapreduce1 import map_reduce\n",
    "from pysnptools.util.mapreduce1.runner import LocalMultiThread, Local\n",
    "import time\n",
    "\n",
    "def slow_square(x):\n",
    "    time.sleep(1)\n",
    "    return x*x\n",
    "\n",
    "def square_sum(count,runner=None):\n",
    "    ss= map_reduce(range(count),\n",
    "               mapper=slow_square,\n",
    "               reducer=sum,\n",
    "               runner=runner)\n",
    "    return ss\n",
    "\n",
    "square_sum(3)"
   ]
  },
  {
   "cell_type": "code",
   "execution_count": 2,
   "metadata": {},
   "outputs": [
    {
     "name": "stdout",
     "output_type": "stream",
     "text": [
      "Wall time: 10.1 s\n"
     ]
    },
    {
     "data": {
      "text/plain": [
       "285"
      ]
     },
     "execution_count": 2,
     "metadata": {},
     "output_type": "execute_result"
    }
   ],
   "source": [
    "%%time\n",
    "\n",
    "square_sum(10,runner=Local())"
   ]
  },
  {
   "cell_type": "code",
   "execution_count": 3,
   "metadata": {},
   "outputs": [
    {
     "name": "stdout",
     "output_type": "stream",
     "text": [
      "Wall time: 1.01 s\n"
     ]
    },
    {
     "data": {
      "text/plain": [
       "285"
      ]
     },
     "execution_count": 3,
     "metadata": {},
     "output_type": "execute_result"
    }
   ],
   "source": [
    "%%time\n",
    "\n",
    "#Multithreading is faster\n",
    "\n",
    "square_sum(10,runner=LocalMultiThread(10))"
   ]
  },
  {
   "cell_type": "code",
   "execution_count": 9,
   "metadata": {},
   "outputs": [
    {
     "name": "stdout",
     "output_type": "stream",
     "text": [
      "Loading fam file datasets\\all_chr.maf0.001.N300.fam\n",
      "Loading bim file datasets\\all_chr.maf0.001.N300.bim\n"
     ]
    },
    {
     "data": {
      "text/plain": [
       "[(0.18768, (300, 1000)), (0.4428888888888889, (300, 15))]"
      ]
     },
     "execution_count": 9,
     "metadata": {},
     "output_type": "execute_result"
    }
   ],
   "source": [
    "# Read from a Bed file in (perhaps parallel) batches and return the mean\n",
    "\n",
    "import os\n",
    "import numpy as np\n",
    "from sgkit_plink._open_bed import open_bed\n",
    "\n",
    "os.chdir(r'D:\\OneDrive\\programs\\pstsgkit\\tests')\n",
    "\n",
    "def thread_read(filename, sid_end=None, runner=None, verbose=False):\n",
    "    with open_bed(filename) as bed:\n",
    "        bed.shape # causes the lazy metadata to read the number of lines in the two metadata files\n",
    "        batch_size = 1000\n",
    "        def read_and_report(start):\n",
    "            if verbose:\n",
    "                print(start)\n",
    "            val = bed.read(index=np.s_[:,start:start+batch_size],dtype='int8')\n",
    "            return np.nanmean(val), val.shape\n",
    "\n",
    "        sid_end = sid_end or bed.sid_count #!!!but what if sid_end is 0?\n",
    "        report = map_reduce(range(0, sid_end,batch_size),\n",
    "                   mapper=read_and_report,\n",
    "                   runner=runner)\n",
    "        return report\n",
    "    \n",
    "\n",
    "thread_read('datasets/all_chr.maf0.001.N300.bed')"
   ]
  },
  {
   "cell_type": "code",
   "execution_count": 10,
   "metadata": {},
   "outputs": [
    {
     "name": "stdout",
     "output_type": "stream",
     "text": [
      "Loading fam file M:\\deldir\\genbgen\\2\\merged_487400x220000.1.fam\n",
      "Loading bim file M:\\deldir\\genbgen\\2\\merged_487400x220000.1.bim\n",
      "Wall time: 1.81 s\n"
     ]
    },
    {
     "data": {
      "text/plain": [
       "(487400, 220000)"
      ]
     },
     "execution_count": 10,
     "metadata": {},
     "output_type": "execute_result"
    }
   ],
   "source": [
    "%%time\n",
    "\n",
    "bigfile = r'M:\\deldir\\genbgen\\2\\merged_487400x220000.1.bed'\n",
    "open_bed(bigfile).shape"
   ]
  },
  {
   "cell_type": "code",
   "execution_count": 15,
   "metadata": {},
   "outputs": [
    {
     "name": "stdout",
     "output_type": "stream",
     "text": [
      "Loading fam file M:\\deldir\\genbgen\\2\\merged_487400x220000.1.fam\n",
      "Loading bim file M:\\deldir\\genbgen\\2\\merged_487400x220000.1.bim\n",
      "Wall time: 19.2 s\n"
     ]
    },
    {
     "data": {
      "text/plain": [
       "[(-27.73091854944604, (487400, 1000)),\n",
       " (-25.430085713992614, (487400, 1000)),\n",
       " (-26.12273082273287, (487400, 1000)),\n",
       " (-26.46684416085351, (487400, 1000)),\n",
       " (-27.040890730406236, (487400, 1000)),\n",
       " (-26.0071763377103, (487400, 1000)),\n",
       " (-27.04188338736151, (487400, 1000)),\n",
       " (-24.859726891670086, (487400, 1000)),\n",
       " (-24.741750547804678, (487400, 1000)),\n",
       " (-25.892419505539596, (487400, 1000))]"
      ]
     },
     "execution_count": 15,
     "metadata": {},
     "output_type": "execute_result"
    }
   ],
   "source": [
    "%%time\n",
    "\n",
    "thread_read(bigfile,sid_end=10000,runner=Local(),verbose=False)"
   ]
  },
  {
   "cell_type": "code",
   "execution_count": 16,
   "metadata": {},
   "outputs": [
    {
     "name": "stdout",
     "output_type": "stream",
     "text": [
      "Loading fam file M:\\deldir\\genbgen\\2\\merged_487400x220000.1.fam\n",
      "Loading bim file M:\\deldir\\genbgen\\2\\merged_487400x220000.1.bim\n",
      "Wall time: 14.2 s\n"
     ]
    },
    {
     "data": {
      "text/plain": [
       "[(-27.73091854944604, (487400, 1000)),\n",
       " (-25.430085713992614, (487400, 1000)),\n",
       " (-26.12273082273287, (487400, 1000)),\n",
       " (-26.46684416085351, (487400, 1000)),\n",
       " (-27.040890730406236, (487400, 1000)),\n",
       " (-26.0071763377103, (487400, 1000)),\n",
       " (-27.04188338736151, (487400, 1000)),\n",
       " (-24.859726891670086, (487400, 1000)),\n",
       " (-24.741750547804678, (487400, 1000)),\n",
       " (-25.892419505539596, (487400, 1000))]"
      ]
     },
     "execution_count": 16,
     "metadata": {},
     "output_type": "execute_result"
    }
   ],
   "source": [
    "%%time\n",
    "#The verbose messages arrive out of order, so we know it's multithreading\n",
    "thread_read(bigfile,sid_end=10000,runner=LocalMultiThread(10),verbose=False)"
   ]
  },
  {
   "cell_type": "code",
   "execution_count": 17,
   "metadata": {},
   "outputs": [
    {
     "name": "stdout",
     "output_type": "stream",
     "text": [
      "Loading fam file M:\\deldir\\genbgen\\2\\merged_487400x220000.1.fam\n",
      "Loading bim file M:\\deldir\\genbgen\\2\\merged_487400x220000.1.bim\n",
      "Wall time: 2min 8s\n"
     ]
    },
    {
     "data": {
      "text/plain": [
       "[(-27.73091854944604, (487400, 1000)),\n",
       " (-25.430085713992614, (487400, 1000)),\n",
       " (-26.12273082273287, (487400, 1000)),\n",
       " (-26.46684416085351, (487400, 1000)),\n",
       " (-27.040890730406236, (487400, 1000)),\n",
       " (-26.0071763377103, (487400, 1000)),\n",
       " (-27.04188338736151, (487400, 1000)),\n",
       " (-24.859726891670086, (487400, 1000)),\n",
       " (-24.741750547804678, (487400, 1000)),\n",
       " (-25.892419505539596, (487400, 1000)),\n",
       " (-27.73091854944604, (487400, 1000)),\n",
       " (-25.430085713992614, (487400, 1000)),\n",
       " (-26.12273082273287, (487400, 1000)),\n",
       " (-26.46684416085351, (487400, 1000)),\n",
       " (-27.040890730406236, (487400, 1000)),\n",
       " (-26.0071763377103, (487400, 1000)),\n",
       " (-27.04188338736151, (487400, 1000)),\n",
       " (-24.859726891670086, (487400, 1000)),\n",
       " (-24.741750547804678, (487400, 1000)),\n",
       " (-25.892419505539596, (487400, 1000)),\n",
       " (-27.73091854944604, (487400, 1000)),\n",
       " (-25.430085713992614, (487400, 1000)),\n",
       " (-26.12273082273287, (487400, 1000)),\n",
       " (-26.46684416085351, (487400, 1000)),\n",
       " (-27.040890730406236, (487400, 1000)),\n",
       " (-26.0071763377103, (487400, 1000)),\n",
       " (-27.04188338736151, (487400, 1000)),\n",
       " (-24.859726891670086, (487400, 1000)),\n",
       " (-24.741750547804678, (487400, 1000)),\n",
       " (-25.892419505539596, (487400, 1000)),\n",
       " (-27.73091854944604, (487400, 1000)),\n",
       " (-25.430085713992614, (487400, 1000)),\n",
       " (-26.12273082273287, (487400, 1000)),\n",
       " (-26.46684416085351, (487400, 1000)),\n",
       " (-27.040890730406236, (487400, 1000)),\n",
       " (-26.0071763377103, (487400, 1000)),\n",
       " (-27.04188338736151, (487400, 1000)),\n",
       " (-24.859726891670086, (487400, 1000)),\n",
       " (-24.741750547804678, (487400, 1000)),\n",
       " (-25.892419505539596, (487400, 1000)),\n",
       " (-27.73091854944604, (487400, 1000)),\n",
       " (-25.430085713992614, (487400, 1000)),\n",
       " (-26.12273082273287, (487400, 1000)),\n",
       " (-26.46684416085351, (487400, 1000)),\n",
       " (-27.040890730406236, (487400, 1000)),\n",
       " (-26.0071763377103, (487400, 1000)),\n",
       " (-27.04188338736151, (487400, 1000)),\n",
       " (-24.859726891670086, (487400, 1000)),\n",
       " (-24.741750547804678, (487400, 1000)),\n",
       " (-25.892419505539596, (487400, 1000)),\n",
       " (-27.73091854944604, (487400, 1000)),\n",
       " (-25.430085713992614, (487400, 1000)),\n",
       " (-26.12273082273287, (487400, 1000)),\n",
       " (-26.46684416085351, (487400, 1000)),\n",
       " (-27.040890730406236, (487400, 1000)),\n",
       " (-26.0071763377103, (487400, 1000)),\n",
       " (-27.04188338736151, (487400, 1000)),\n",
       " (-24.859726891670086, (487400, 1000)),\n",
       " (-24.741750547804678, (487400, 1000)),\n",
       " (-25.892419505539596, (487400, 1000)),\n",
       " (-27.73091854944604, (487400, 1000)),\n",
       " (-25.430085713992614, (487400, 1000)),\n",
       " (-26.12273082273287, (487400, 1000)),\n",
       " (-26.46684416085351, (487400, 1000)),\n",
       " (-27.040890730406236, (487400, 1000)),\n",
       " (-26.0071763377103, (487400, 1000)),\n",
       " (-27.04188338736151, (487400, 1000)),\n",
       " (-24.859726891670086, (487400, 1000)),\n",
       " (-24.741750547804678, (487400, 1000)),\n",
       " (-25.892419505539596, (487400, 1000)),\n",
       " (-27.73091854944604, (487400, 1000)),\n",
       " (-25.430085713992614, (487400, 1000)),\n",
       " (-26.12273082273287, (487400, 1000)),\n",
       " (-26.46684416085351, (487400, 1000)),\n",
       " (-27.040890730406236, (487400, 1000)),\n",
       " (-26.0071763377103, (487400, 1000)),\n",
       " (-27.04188338736151, (487400, 1000)),\n",
       " (-24.859726891670086, (487400, 1000)),\n",
       " (-24.741750547804678, (487400, 1000)),\n",
       " (-25.892419505539596, (487400, 1000)),\n",
       " (-27.73091854944604, (487400, 1000)),\n",
       " (-25.430085713992614, (487400, 1000)),\n",
       " (-26.12273082273287, (487400, 1000)),\n",
       " (-26.46684416085351, (487400, 1000)),\n",
       " (-27.040890730406236, (487400, 1000)),\n",
       " (-26.0071763377103, (487400, 1000)),\n",
       " (-27.04188338736151, (487400, 1000)),\n",
       " (-24.859726891670086, (487400, 1000)),\n",
       " (-24.741750547804678, (487400, 1000)),\n",
       " (-25.892419505539596, (487400, 1000)),\n",
       " (-27.73091854944604, (487400, 1000)),\n",
       " (-25.430085713992614, (487400, 1000)),\n",
       " (-26.12273082273287, (487400, 1000)),\n",
       " (-26.46684416085351, (487400, 1000)),\n",
       " (-27.040890730406236, (487400, 1000)),\n",
       " (-26.0071763377103, (487400, 1000)),\n",
       " (-27.04188338736151, (487400, 1000)),\n",
       " (-24.859726891670086, (487400, 1000)),\n",
       " (-24.741750547804678, (487400, 1000)),\n",
       " (-25.892419505539596, (487400, 1000))]"
      ]
     },
     "execution_count": 17,
     "metadata": {},
     "output_type": "execute_result"
    }
   ],
   "source": [
    "%%time\n",
    "\n",
    "thread_read(bigfile,sid_end=100*1000,runner=LocalMultiThread(10),verbose=False)"
   ]
  },
  {
   "cell_type": "code",
   "execution_count": 10,
   "metadata": {},
   "outputs": [],
   "source": [
    "#Single threaded: 1000 variants: 4.5 seconds\n",
    "#Multi            1000 variants: 3.8 seconds\n",
    "#Multi          10,000 variants: 20 seconds"
   ]
  }
 ],
 "metadata": {
  "kernelspec": {
   "display_name": "Python 3",
   "language": "python",
   "name": "python3"
  },
  "language_info": {
   "codemirror_mode": {
    "name": "ipython",
    "version": 3
   },
   "file_extension": ".py",
   "mimetype": "text/x-python",
   "name": "python",
   "nbconvert_exporter": "python",
   "pygments_lexer": "ipython3",
   "version": "3.7.4"
  }
 },
 "nbformat": 4,
 "nbformat_minor": 2
}
